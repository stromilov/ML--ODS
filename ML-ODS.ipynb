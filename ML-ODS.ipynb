{
 "cells": [
  {
   "cell_type": "code",
   "execution_count": 246,
   "id": "1fae5973",
   "metadata": {},
   "outputs": [],
   "source": [
    "import pandas as pd\n",
    "import numpy as np\n",
    "from io import StringIO"
   ]
  },
  {
   "cell_type": "markdown",
   "id": "145b4d71-dab2-455f-97fa-a7c0c4b8ef91",
   "metadata": {
    "tags": []
   },
   "source": [
    "##### Написать код, который вычисляет сумму всех чисел, удовлетворяющих следующие условия:\n",
    "\n",
    "положительные целые числа от 1 до 1_000_000_002 (один миллиард два) включительно <br>\n",
    "которые нацело (без остатка) делятся на 3 (пример: 3, 6, 9, ...) <br>\n",
    "и которые не заканчиваются на 4 и 7 (пример заканчивающихся на 4 и 7: 24, 27, 54, 57 ...)<br>\n",
    "Результат суммы ввести в поле ниже. <br>\n",
    "В поле нужно ввести только число, являющееся ответом, без пробелов и других символов.<br>"
   ]
  },
  {
   "cell_type": "code",
   "execution_count": 81,
   "id": "11fbffda-67ff-4850-aeb7-f978e982df69",
   "metadata": {},
   "outputs": [
    {
     "name": "stdout",
     "output_type": "stream",
     "text": [
      "133333334466666672\n"
     ]
    }
   ],
   "source": [
    "print(sum([i for i in range(1, 1_000_000_002 + 1) if i % 3 == 0 and i % 10 != 4 and i % 10 != 7]))"
   ]
  },
  {
   "cell_type": "raw",
   "id": "79d332a3-8948-48ac-9199-c6e051482a2d",
   "metadata": {},
   "source": [
    "##### На вход поступает текстовый файл из 3-х тысяч строк\n",
    "\n",
    "Формат файла:\n",
    "\n",
    ">\"арифметическая операция\"    \"целое число #1\"    \"целое число #2\"\n",
    "\n",
    "Разделитель - 4 пробела <br/>\n",
    "\n",
    "\n",
    "Нужно подготовить текстовый файл из 1 строки.<br>\n",
    "Строка содержит набор из 3-х тысяч чисел, разделенных запятой. <br>\n",
    "После последнего числа запятая не ставится.<br>\n",
    "каждое число - результат операции: <br>\n",
    "\n",
    "> \"результирующее целое число\" = \"целое число #1\" применить \"арифметическая операция\" \"целое число #2\"\n",
    "\n",
    "Пример входного файла:\n",
    "\n",
    "+    5    4\n",
    "-    -10449    -7623\n",
    "**    2    10\n",
    "\n",
    "Пример выходного файла (для примера входного файла выше):\n",
    "\n",
    "9,-2826,1024\n",
    "    \n",
    "Допустимые операции:\n",
    "\n",
    "+ (сложение)\n",
    "- (вычитание)\n",
    "* (умножение)\n",
    "// (целочисленное деление) (для этой операции подаются только положительные числа)\n",
    "% (остаток от деления) (для этой операции подаются только положительные числа)\n",
    "** (возведение в степень) (для этой операции подаются только положительные числа)\n",
    "\n",
    "Входные числа - только целые.\n",
    "Выходные числа - только целые."
   ]
  },
  {
   "cell_type": "code",
   "execution_count": 245,
   "id": "917ccd81-6f46-47ba-bc76-88c341437760",
   "metadata": {},
   "outputs": [
    {
     "name": "stderr",
     "output_type": "stream",
     "text": [
      "C:\\Users\\admin\\AppData\\Local\\Temp\\ipykernel_3664\\745889269.py:1: ParserWarning: Falling back to the 'python' engine because the 'c' engine does not support regex separators (separators > 1 char and different from '\\s+' are interpreted as regex); you can avoid this warning by specifying engine='python'.\n",
      "  df = pd.read_csv('test_input_file_1.txt', sep=\"    \", header=None)\n"
     ]
    }
   ],
   "source": [
    "df = pd.read_csv('test_input_file_1.txt', sep=\"    \", header=None)"
   ]
  },
  {
   "cell_type": "code",
   "execution_count": 95,
   "id": "fd621638-a715-4bda-8a12-e742f553e3cd",
   "metadata": {},
   "outputs": [
    {
     "data": {
      "text/plain": [
       "array(['+', '//', '*', '%', '-', '**'], dtype=object)"
      ]
     },
     "execution_count": 95,
     "metadata": {},
     "output_type": "execute_result"
    }
   ],
   "source": [
    "df[0].unique()"
   ]
  },
  {
   "cell_type": "code",
   "execution_count": 220,
   "id": "9a332afe-5c26-4a03-a065-f4018908a170",
   "metadata": {},
   "outputs": [],
   "source": [
    "result = []\n",
    "for index, i in enumerate(df[0]):\n",
    "    if i == '+':\n",
    "        result.append(str(int(df[1][index]) + int(df[2][index])))\n",
    "    elif i == '//':\n",
    "        result.append(str(int(df[1][index]) // int(df[2][index])))\n",
    "    elif i == '*':\n",
    "        result.append(str(int(df[1][index]) * int(df[2][index])))\n",
    "    elif i == '%':\n",
    "        result.append(str(int(df[1][index]) % int(df[2][index])))\n",
    "    elif i == '-':\n",
    "        result.append(str(int(df[1][index]) - int(df[2][index])))\n",
    "    elif i == '**':\n",
    "        result.append(str(int(df[1][index]) ** int(df[2][index])))\n",
    "   \n",
    "df_result = pd.Series(result)"
   ]
  },
  {
   "cell_type": "markdown",
   "id": "1da72755-e077-4a36-9aa2-8aacb4b53992",
   "metadata": {},
   "source": [
    "##### На вход поступает два текстовых файла из 3-х тысяч строк каждый.\n",
    "\n",
    "Первый файл содержит строки текста.   \n",
    " \n",
    "Второй файл содержит строки из двух целых неотрицательных чисел.\n",
    "Первое число в строке всегда меньше или равно второму.\n",
    "Числа всегда меньше длины соответствующей строки первого файла.\n",
    "Соответствующей - это значит 1-ая строка из 1-го файла соответствует 1-ой строке из 2-го файла, а 123-я строка из 1-го файла соответствует 123-ей строке из 2-го файла.\n",
    " \n",
    "Подготовить выходной файл, который состоит из подстрок 1-го входного файла.\n",
    "Подстроки разделены пробелами.\n",
    "Какие брать подстроки - написано во втором файле.\n",
    "В конце файла пробела нет.\n",
    "Например:\n",
    "\n",
    "    120 строка в 1-ом файле: JBOljrfkrfjgikenfjerkrkvkfKUGlknc\n",
    "    120 строка во 2-ом файле: 13 27\n",
    "Это значит 120 подстрока в результирующем файле это символы с 13 по 27, включая 13-ый и 27-ой символы.\n",
    "Не забывайте, что нумерация символов в строке с 0.\n",
    "Пример требуемой подстроки: kenfjerkrkvkfKU\n",
    "\n",
    "Пример 1-го входного файла:\n",
    "QxBpXEeyDWHiuTttWjhFMGTlrCMqpSvrNOQoxUbyiZombbLaYqBHvydPJlvdspwwpgeLNlHMVYrZvPsQkcQgPpierYSahialdXlde\n",
    "rNsZEKdYYlKKRrYGNWEXTYXOpQqrdGANRfoyeVvRwLVhZDfzKhFQkuSYODIXFLYafnXbxuwqZKQKjSiFZAtSponvmulcjicIDhNaQ\n",
    "TttSFLqbNkHvOeHSKTTGEEGxwtXImLeCmcKjvsIkIIvvlsUSazNuEsdDYlOljweSubVJxHbSJkBpByFiUCFctgrLKhlYgEWWuDYqx\n",
    "Пример 2-го входного файла:\n",
    "30 84\n",
    "5 79\n",
    "70 70\n",
    "Пример выходного файла:\n",
    "```vrNOQoxUbyiZombbLaYqBHvydPJlvdspwwpgeLNlHMVYrZvPsQkcQgP KdYYlKKRrYGNWEXTYXOpQqrdGANRfoyeVvRwLVhZDfzKhFQkuSYODIXFLYafnXbxuwqZKQKjSiF b```"
   ]
  },
  {
   "cell_type": "code",
   "execution_count": 315,
   "id": "036c6e0e-6082-4c0f-a2d0-13f7cc64a079",
   "metadata": {},
   "outputs": [],
   "source": [
    "df1 = pd.read_csv('import_file_2_1.txt', header=None)"
   ]
  },
  {
   "cell_type": "code",
   "execution_count": 321,
   "id": "928a402a-eeaa-4cf0-9102-1126a2c14063",
   "metadata": {},
   "outputs": [],
   "source": [
    "df2 = pd.read_csv('import_file_2_2.txt', header=None, sep=' ')"
   ]
  },
  {
   "cell_type": "code",
   "execution_count": 323,
   "id": "17f5e900-8613-4a64-926f-9f837498ef12",
   "metadata": {},
   "outputs": [],
   "source": [
    "result = []\n",
    "temp = ''\n",
    "for index, i in enumerate(df1[0]):\n",
    "    for j in range(df2[0][index], df2[1][index] + 1):\n",
    "        temp += i[j]\n",
    "    result.append(temp)\n",
    "    temp = ''"
   ]
  },
  {
   "cell_type": "code",
   "execution_count": 324,
   "id": "b72d90ce-a0df-4021-a912-c3729f0c079f",
   "metadata": {},
   "outputs": [],
   "source": [
    "df_res = pd.Series(result)"
   ]
  },
  {
   "cell_type": "code",
   "execution_count": 331,
   "id": "d081b86f-4c04-47a7-b99b-d9950078b7e5",
   "metadata": {},
   "outputs": [],
   "source": [
    "df_res = pd.DataFrame(df_res)"
   ]
  },
  {
   "cell_type": "code",
   "execution_count": 336,
   "id": "e0549bb6-2908-44fc-9861-d30d0025b885",
   "metadata": {},
   "outputs": [],
   "source": [
    "df_res = df_res.T"
   ]
  },
  {
   "cell_type": "code",
   "execution_count": 338,
   "id": "d8a2dcff-91fc-481c-b856-bc33ab686750",
   "metadata": {},
   "outputs": [],
   "source": [
    "df_res.to_csv('out_2.txt', sep=' ', header=None)"
   ]
  },
  {
   "cell_type": "markdown",
   "id": "7150e3aa-d28c-4b4a-9d3f-65de7e66c924",
   "metadata": {},
   "source": [
    "##### На вход поступает строка.\n",
    "В ней хранится набор химических символов (He, O, H, Mg, Fe, ...). Без пробелов.\n",
    "Нужно расшифровать химические символы в название химических элементов.\n",
    "Для удобства, прилагается json файл, который ставит в соответствие химическому символу его химическое название.\n",
    "Как прочитать этот файл в словарь python (dict):\n",
    "\n",
    "``periodic_table = json.load(open('periodic_table.json'))`` <br>\n",
    "\n",
    "Пример входной строки:\n",
    "\n",
    "``NOTiFICaTiON``<br>\n",
    "Пример выходной строки:\n",
    "\n",
    "АзотКислородТитанФторЙодКальцийТитанКислородАзот\n",
    "Обратите внимание, что, например, \"Bi\" - это \"Висмут\", а не \"БорЙод\".\n",
    "То есть регистр (заглавные или прописные) букв имеет значение."
   ]
  },
  {
   "cell_type": "code",
   "execution_count": 563,
   "id": "b9f4b45c-eb6e-4f24-83dc-5dddd0b6325e",
   "metadata": {},
   "outputs": [],
   "source": [
    "df = str(pd.read_csv('import_file_3.txt'))[26:976]"
   ]
  },
  {
   "cell_type": "code",
   "execution_count": 468,
   "id": "416bde38-9cd7-4543-8b7e-33268db17fe9",
   "metadata": {},
   "outputs": [],
   "source": [
    "table = pd.read_json('periodic_table.json', orient='index')"
   ]
  },
  {
   "cell_type": "code",
   "execution_count": 521,
   "id": "2f6a2147-9207-48d8-b305-55442b8d1414",
   "metadata": {},
   "outputs": [],
   "source": [
    "result = {}\n",
    "for i in table[0].index:\n",
    "    if len(i) == 3:\n",
    "        result[i] = table[0][i]\n",
    "for i in table[0].index:\n",
    "    if len(i) == 2:\n",
    "        result[i] = table[0][i]\n",
    "for i in table[0].index:\n",
    "    if len(i) == 1:\n",
    "        result[i] = table[0][i]\n"
   ]
  },
  {
   "cell_type": "code",
   "execution_count": 565,
   "id": "f63031cb-3117-4185-a5a9-9bc1e0549ed8",
   "metadata": {},
   "outputs": [
    {
     "data": {
      "text/plain": [
       "''"
      ]
     },
     "execution_count": 565,
     "metadata": {},
     "output_type": "execute_result"
    }
   ],
   "source": [
    "result_str = ''\n",
    "while df != '':\n",
    "    for i in result:\n",
    "        if df.find(i) == 0:\n",
    "            df = df.replace(i, '', 1)\n",
    "            result_str += result[i]\n",
    "            break"
   ]
  },
  {
   "cell_type": "code",
   "execution_count": null,
   "id": "b9079c11-b250-4a15-aec9-dd4dba063c21",
   "metadata": {},
   "outputs": [],
   "source": []
  }
 ],
 "metadata": {
  "kernelspec": {
   "display_name": "Python 3 (ipykernel)",
   "language": "python",
   "name": "python3"
  },
  "language_info": {
   "codemirror_mode": {
    "name": "ipython",
    "version": 3
   },
   "file_extension": ".py",
   "mimetype": "text/x-python",
   "name": "python",
   "nbconvert_exporter": "python",
   "pygments_lexer": "ipython3",
   "version": "3.10.3"
  }
 },
 "nbformat": 4,
 "nbformat_minor": 5
}
